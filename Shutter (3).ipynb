{
 "cells": [
  {
   "cell_type": "code",
   "execution_count": 2,
   "id": "db492019-601e-490f-a4be-ea71b0ccef29",
   "metadata": {},
   "outputs": [],
   "source": [
    "import pandas as pd\n",
    "import numpy as np\n",
    "import requests\n",
    "from bs4 import BeautifulSoup"
   ]
  },
  {
   "cell_type": "code",
   "execution_count": 3,
   "id": "eb824c4f-5d82-49b2-a446-2931abcb4bab",
   "metadata": {
    "tags": []
   },
   "outputs": [],
   "source": [
    "header={\"user-agent\":\"...\"}"
   ]
  },
  {
   "cell_type": "code",
   "execution_count": 4,
   "id": "b1af3e54-92ab-4714-aa53-ce1fd3b3043f",
   "metadata": {},
   "outputs": [],
   "source": [
    "link=\"https://www.shutterstock.com/tr/search?image_type=illustration\"\n"
   ]
  },
  {
   "cell_type": "code",
   "execution_count": 5,
   "id": "64ea459f-e46f-4660-a4af-36950a2c2136",
   "metadata": {
    "tags": []
   },
   "outputs": [
    {
     "data": {
      "text/plain": [
       "<Response [200]>"
      ]
     },
     "execution_count": 5,
     "metadata": {},
     "output_type": "execute_result"
    }
   ],
   "source": [
    "r=requests.get(link,headers=header)\n",
    "r"
   ]
  },
  {
   "cell_type": "code",
   "execution_count": 6,
   "id": "57743309-9639-4f03-beca-b20f75906080",
   "metadata": {
    "tags": []
   },
   "outputs": [],
   "source": [
    "soup= BeautifulSoup(r.content,\"lxml\")\n"
   ]
  },
  {
   "cell_type": "code",
   "execution_count": null,
   "id": "5c5c078e-c594-40fe-bb51-818d39afdf03",
   "metadata": {
    "tags": []
   },
   "outputs": [],
   "source": [
    "soup.prettify()"
   ]
  },
  {
   "cell_type": "code",
   "execution_count": 8,
   "id": "2cc3cf64-3851-4470-bb5e-ba4fbc616cc3",
   "metadata": {
    "tags": []
   },
   "outputs": [],
   "source": [
    "pics=soup.find_all(\"div\",attrs={\"data-automation\":\"AssetGrids_GridItemContainer_div\"})\n"
   ]
  },
  {
   "cell_type": "code",
   "execution_count": 9,
   "id": "5742a291-488a-472a-9c66-8dabb6563992",
   "metadata": {},
   "outputs": [],
   "source": [
    "links=[]\n",
    "users=[]"
   ]
  },
  {
   "cell_type": "code",
   "execution_count": 10,
   "id": "e9d889e3-dd3a-41f0-9f9f-2262a9848a86",
   "metadata": {
    "tags": []
   },
   "outputs": [],
   "source": [
    "def datas():\n",
    "    \n",
    "    \n",
    "    \n",
    "    \n",
    "    \n",
    "        \n",
    "    \n",
    "    for link in pics:\n",
    "        try:\n",
    "                \n",
    "                link_bas=link.find(\"a\")\n",
    "                link_orta=link_bas.get(\"href\")\n",
    "                link_son=\"https://www.shutterstock.com/tr\"+link_orta\n",
    "                links.append(link_son)\n",
    "                r=requests.get(link_son,headers=header)\n",
    "                soup=BeautifulSoup(r.content,\"lxml\")\n",
    "                detail_soup=soup.find_all(\"div\",attrs={\"class\":\"MuiGrid-root MuiGrid-item MuiGrid-grid-xs-12 MuiGrid-grid-md-4\"})\n",
    "                \n",
    "        except:\n",
    "                \n",
    "            pass\n",
    "        for username in detail_soup:\n",
    "            try:\n",
    "                    \n",
    "                username=username.find(\"a\").text\n",
    "                users.append(username)\n",
    "                    \n",
    "            except:\n",
    "                username=\"Null\"\n",
    "                users.append(username)\n",
    "                  "
   ]
  },
  {
   "cell_type": "code",
   "execution_count": 11,
   "id": "0dbc0f9d-b4e1-4c38-b814-39a85c79a868",
   "metadata": {
    "tags": []
   },
   "outputs": [],
   "source": [
    "datas()"
   ]
  },
  {
   "cell_type": "code",
   "execution_count": 12,
   "id": "848b110f-8d56-42ab-84e0-c9b8574d8aac",
   "metadata": {
    "tags": []
   },
   "outputs": [
    {
     "data": {
      "text/plain": [
       "106"
      ]
     },
     "execution_count": 12,
     "metadata": {},
     "output_type": "execute_result"
    }
   ],
   "source": [
    "len(links)"
   ]
  },
  {
   "cell_type": "markdown",
   "id": "26a3d59a-647c-45de-97a3-62a6a4342bf2",
   "metadata": {},
   "source": [
    "#Some links are broken because of this ı could'nt scrape username all of this\n"
   ]
  },
  {
   "cell_type": "code",
   "execution_count": 14,
   "id": "76b6a520-1863-4089-860a-6caa9ab6167c",
   "metadata": {
    "tags": []
   },
   "outputs": [
    {
     "data": {
      "text/plain": [
       "['https://www.shutterstock.com/tr/image-illustration/happy-4th-july-usa-independence-day-2165629027',\n",
       " 'https://www.shutterstock.com/tr/image-vector/vector-illustration-on-theme-skateboarding-skateboard-1937549512',\n",
       " 'https://www.shutterstock.com/tr/image-vector/we-stand-ukraine-flag-fist-show-2165619917',\n",
       " 'https://www.shutterstock.com/tr/image-vector/ice-cream-on-stick-pastel-colors-1928619335',\n",
       " 'https://www.shutterstock.com/tr/image-vector/we-stand-palestine-flag-fist-show-2165626621',\n",
       " 'https://www.shutterstock.com/tr/image-vector/man-flag-fireworks-flat-design-kuwait-1921568048',\n",
       " 'https://www.shutterstock.com/tr/image-vector/set-two-popsicles-isolated-on-brown-2165621715',\n",
       " 'https://www.shutterstock.com/tr/image-illustration/pink-lamp-hanging-icon-isolated-on-1899325255',\n",
       " 'https://www.shutterstock.com/tr/image-vector/no-pain-gain-gym-logo-isolated-2165618021',\n",
       " 'https://www.shutterstock.com/tr/image-vector/focus-on-yourself-not-others-motivational-2165614921',\n",
       " 'https://www.shutterstock.com/tr/image-vector/lettering-good-night-logo-design-1927756166',\n",
       " 'https://www.shutterstock.com/tr/image-vector/flag-ukraine-icon-design-official-colors-1930418915',\n",
       " 'https://www.shutterstock.com/tr/image-vector/hello-summer-editable-retro-style-text-2165603687',\n",
       " 'https://www.shutterstock.com/tr/image-illustration/shop-now-buy-2-get-1-2145415977',\n",
       " 'https://www.shutterstock.com/tr/image-illustration/shop-now-sale-summer-season-deals-2145406049',\n",
       " 'https://www.shutterstock.com/tr/image-vector/hanging-lamp-light-isolated-on-red-2165612645',\n",
       " 'https://www.shutterstock.com/tr/image-illustration/season-offer-flash-sale-20-off-2145414749',\n",
       " 'https://www.shutterstock.com/tr/image-illustration/shop-now-season-offer-flash-sale-2145415297',\n",
       " 'https://www.shutterstock.com/tr/image-illustration/shop-now-30-off-special-sale-2145419197',\n",
       " 'https://www.shutterstock.com/tr/image-vector/set-two-cone-ice-creams-isolated-2165600619',\n",
       " 'https://www.shutterstock.com/tr/image-illustration/sale-20-off-extra-shop-now-2145406947',\n",
       " 'https://www.shutterstock.com/tr/image-illustration/shop-now-30-percent-off-sale-2145405159',\n",
       " 'https://www.shutterstock.com/tr/image-illustration/happy-4th-july-usa-independence-day-2169145361',\n",
       " 'https://www.shutterstock.com/tr/image-vector/digital-marketing-illustrations-mega-set-collection-2126518544',\n",
       " 'https://www.shutterstock.com/tr/image-illustration/happy-4th-july-banner-copy-space-2171987073',\n",
       " 'https://www.shutterstock.com/tr/image-vector/75-year-happy-independence-day-india-2180023117',\n",
       " 'https://www.shutterstock.com/tr/image-vector/red-color-heart-symbol-isolated-on-2165597345',\n",
       " 'https://www.shutterstock.com/tr/image-vector/business-marketing-illustrations-mega-set-collection-2139659171',\n",
       " 'https://www.shutterstock.com/tr/image-illustration/happy-4th-july-usa-independence-day-2171986027',\n",
       " 'https://www.shutterstock.com/tr/image-illustration/happy-4th-july-usa-independence-day-2171714753',\n",
       " 'https://www.shutterstock.com/tr/image-vector/kangaroo-art-drawing-stock-image-2172336209',\n",
       " 'https://www.shutterstock.com/tr/image-vector/big-satellite-dish-tv-antenna-2172329305',\n",
       " 'https://www.shutterstock.com/tr/image-vector/fish-aquarium-drawing-small-2172323491',\n",
       " 'https://www.shutterstock.com/tr/image-vector/cat-drawing-black-white-2172324433',\n",
       " 'https://www.shutterstock.com/tr/image-vector/cute-horse-art-drawing-2172337445',\n",
       " 'https://www.shutterstock.com/tr/image-vector/best-simple-house-drawing-ideas-2172322325',\n",
       " 'https://www.shutterstock.com/tr/image-vector/penguin-vector-art-icons-graphics-2172315651',\n",
       " 'https://www.shutterstock.com/tr/image-vector/cute-fish-cartoon-royalty-free-vector-2172312667',\n",
       " 'https://www.shutterstock.com/tr/image-vector/ladybug-vector-art-stock-image-2172320701',\n",
       " 'https://www.shutterstock.com/tr/image-vector/social-network-illustrations-collection-different-scenes-2164655521',\n",
       " 'https://www.shutterstock.com/tr/image-vector/vinnytsia-ukraine-january-10-2021-collection-2105506280',\n",
       " 'https://www.shutterstock.com/tr/image-vector/satellite-art-drawing-illustrations-2172310935',\n",
       " 'https://www.shutterstock.com/tr/image-vector/art-objects-exhibition-classical-contemporary-painting-2109266888',\n",
       " 'https://www.shutterstock.com/tr/image-vector/moon-star-black-white-2175146017',\n",
       " 'https://www.shutterstock.com/tr/image-vector/abstract-art-prints-moon-2175144361',\n",
       " 'https://www.shutterstock.com/tr/image-vector/group-abstract-diverse-people-friends-coworkers-2121864335',\n",
       " 'https://www.shutterstock.com/tr/image-vector/abstact-art-tshirt-image-2175141801',\n",
       " 'https://www.shutterstock.com/tr/image-vector/abstract-art-solar-system-2175140427',\n",
       " 'https://www.shutterstock.com/tr/image-vector/solar-system-planets-art-image-2175140233',\n",
       " 'https://www.shutterstock.com/tr/image-vector/star-abstract-art-black-white-2175143957',\n",
       " 'https://www.shutterstock.com/tr/image-vector/art-fluting-star-image-2175142353',\n",
       " 'https://www.shutterstock.com/tr/image-vector/art-star-spectra-illustration-2175141447',\n",
       " 'https://www.shutterstock.com/tr/image-vector/new-delhiindia-august-15-2022-75-2179597275',\n",
       " 'https://www.shutterstock.com/tr/image-vector/business-marketing-illustrations-mega-set-collection-2147002577',\n",
       " 'https://www.shutterstock.com/tr/image-vector/business-concept-illustrations-mega-set-collection-2078569612',\n",
       " 'https://www.shutterstock.com/tr/image-vector/collection-modern-style-ramadan-mubarak-greeting-2122376873',\n",
       " 'https://www.shutterstock.com/tr/image-illustration/abstract-multiples-colors-background-red-green-2128605815',\n",
       " 'https://www.shutterstock.com/tr/image-vector/watercolor-nationaldoctors-day-medic-holding-syringe-2165265719',\n",
       " 'https://www.shutterstock.com/tr/image-illustration/shop-now-sale-savings-30-percent-2145598211',\n",
       " 'https://www.shutterstock.com/tr/image-vector/solar-space-station-illustration-image-2175139973',\n",
       " 'https://www.shutterstock.com/tr/image-vector/indian-tricolor-flag-background-independence-day-2175624403',\n",
       " 'https://www.shutterstock.com/tr/image-vector/valentines-day-february-14-vector-illustrations-2095222795',\n",
       " 'https://www.shutterstock.com/tr/image-vector/four-sets-eid-mubarak-greeting-islamic-2129374862',\n",
       " 'https://www.shutterstock.com/tr/image-vector/business-concept-illustrations-mega-set-collection-2075059939',\n",
       " 'https://www.shutterstock.com/tr/image-vector/stock-market-finance-capital-investment-concept-2149436139',\n",
       " 'https://www.shutterstock.com/tr/image-vector/social-media-marketing-illustrations-mega-set-2108385791',\n",
       " 'https://www.shutterstock.com/tr/image-vector/valentines-day-design-realistic-3d-pink-2103577295',\n",
       " 'https://www.shutterstock.com/tr/image-illustration/green-texture-paper-paint-background-2128594277',\n",
       " 'https://www.shutterstock.com/tr/image-illustration/light-green-texture-background-wiith-centered-2128594274',\n",
       " 'https://www.shutterstock.com/tr/image-vector/product-banner-podium-platform-geometric-shapes-2108938157',\n",
       " 'https://www.shutterstock.com/tr/image-vector/ramadan-kareem-islamic-greeting-card-template-2118009002',\n",
       " 'https://www.shutterstock.com/tr/image-vector/ramadan-kareem-islamic-greeting-card-template-2118008888',\n",
       " 'https://www.shutterstock.com/tr/image-vector/happy-independence-day-india-3d-ashoka-2181543853',\n",
       " 'https://www.shutterstock.com/tr/image-illustration/eidaladha-mubarak-eid-celebration-banner-biggest-2171719487',\n",
       " 'https://www.shutterstock.com/tr/image-illustration/sale-sign-over-art-white-brush-2144213219',\n",
       " 'https://www.shutterstock.com/tr/image-vector/watercolor-tropical-summer-background-leaves-2166993903',\n",
       " 'https://www.shutterstock.com/tr/image-vector/business-concept-illustrations-mega-set-collection-2038117337',\n",
       " 'https://www.shutterstock.com/tr/image-vector/red-black-color-mandala-alpona-design-2165481531',\n",
       " 'https://www.shutterstock.com/tr/image-vector/3d-business-icon-set-calculator-safe-2120928194',\n",
       " 'https://www.shutterstock.com/tr/image-vector/watercolor-baby-safari-animals-wooden-2169389817',\n",
       " 'https://www.shutterstock.com/tr/image-vector/circle-black-red-color-alpona-design-2165626839',\n",
       " 'https://www.shutterstock.com/tr/image-vector/cute-girl-hat-line-art-2172228455',\n",
       " 'https://www.shutterstock.com/tr/image-vector/red-black-color-mandala-design-template-2165482903',\n",
       " 'https://www.shutterstock.com/tr/image-vector/awesome-looking-cap-line-art-2172228317',\n",
       " 'https://www.shutterstock.com/tr/image-vector/beautiful-girl-butterfly-line-art-2172228161',\n",
       " 'https://www.shutterstock.com/tr/image-illustration/abstract-geometry-3d-rendering-background-design-2128604561',\n",
       " 'https://www.shutterstock.com/tr/image-vector/wave-water-sun-2175141595',\n",
       " 'https://www.shutterstock.com/tr/image-vector/3d-background-product-display-podium-scene-2101481254',\n",
       " 'https://www.shutterstock.com/tr/image-vector/cute-girl-vector-line-art-2172226447',\n",
       " 'https://www.shutterstock.com/tr/image-vector/awesome-hand-love-line-art-2172227487',\n",
       " 'https://www.shutterstock.com/tr/image-vector/beautiful-girl-leaf-line-art-2172226863',\n",
       " 'https://www.shutterstock.com/tr/image-vector/beautiful-woman-back-side-line-art-2172225819',\n",
       " 'https://www.shutterstock.com/tr/image-vector/beautiful-girl-cap-line-art-2172226093',\n",
       " 'https://www.shutterstock.com/tr/image-illustration/water-color-illustration-background-light-2128594271',\n",
       " 'https://www.shutterstock.com/tr/image-vector/awesome-man-head-line-art-2172226663',\n",
       " 'https://www.shutterstock.com/tr/image-vector/circle-black-color-mandala-design-template-2165484457',\n",
       " 'https://www.shutterstock.com/tr/image-vector/beautiful-cat-hat-line-art-2172227971',\n",
       " 'https://www.shutterstock.com/tr/image-vector/green-color-alpona-design-template-celebration-2165482355',\n",
       " 'https://www.shutterstock.com/tr/image-vector/black-mandala-color-alpona-design-template-2165483229',\n",
       " 'https://www.shutterstock.com/tr/image-vector/red-color-alpona-design-template-celebration-2165482091',\n",
       " 'https://www.shutterstock.com/tr/image-vector/poster-banner-blue-sky-paper-cut-2107328126',\n",
       " 'https://www.shutterstock.com/tr/image-vector/black-color-alpona-design-template-celebration-2165483601',\n",
       " 'https://www.shutterstock.com/tr/image-vector/circular-pattern-form-mandala-black-color-2165482541',\n",
       " 'https://www.shutterstock.com/tr/image-vector/ethnic-mandala-decoration-pattern-alpona-design-2165482757',\n",
       " 'https://www.shutterstock.com/tr/image-illustration/vector-blue-squares-abstract-background-geometric-2128598021',\n",
       " 'https://www.shutterstock.com/tr/image-vector/ramadan-kareem-eid-mubarak-islamic-holiday-2111524463']"
      ]
     },
     "execution_count": 14,
     "metadata": {},
     "output_type": "execute_result"
    }
   ],
   "source": [
    "links"
   ]
  },
  {
   "cell_type": "code",
   "execution_count": 15,
   "id": "1b262dad-b97d-42c3-9aca-306022545d35",
   "metadata": {
    "tags": []
   },
   "outputs": [
    {
     "data": {
      "text/plain": [
       "71"
      ]
     },
     "execution_count": 15,
     "metadata": {},
     "output_type": "execute_result"
    }
   ],
   "source": [
    "len(users)"
   ]
  },
  {
   "cell_type": "code",
   "execution_count": 16,
   "id": "4f1abc5b-160f-4d26-901b-fc629fa3493a",
   "metadata": {
    "tags": []
   },
   "outputs": [
    {
     "data": {
      "text/plain": [
       "['Serge Geras',\n",
       " 'AlenaNikolaeva',\n",
       " 'Deden Reinaldi',\n",
       " 'VectorV',\n",
       " 'Gatot_koco',\n",
       " 'Bass stock',\n",
       " 'GUILTYPE STUDIO',\n",
       " 'GUILTYPE STUDIO',\n",
       " 'GUILTYPE STUDIO',\n",
       " 'GUILTYPE STUDIO',\n",
       " 'GUILTYPE STUDIO',\n",
       " 'GUILTYPE STUDIO',\n",
       " 'GUILTYPE STUDIO',\n",
       " 'StonePictures',\n",
       " 'Zahid Alam Art',\n",
       " 'StonePictures',\n",
       " 'StonePictures',\n",
       " 'MariaLev',\n",
       " 'Ardea-studio',\n",
       " 'Kamal Uddin d',\n",
       " 'Kamal Uddin d',\n",
       " 'Bibadash',\n",
       " 'Kamal Uddin d',\n",
       " 'Kamal Uddin d',\n",
       " 'Kamal Uddin d',\n",
       " 'Kamal Uddin d',\n",
       " 'Kamal Uddin d',\n",
       " 'Kamal Uddin d',\n",
       " 'BataviaPost',\n",
       " 'StonePictures',\n",
       " 'StonePictures',\n",
       " 'Marish',\n",
       " 'luxman22',\n",
       " 'Samarkhan121',\n",
       " 'GUILTYPE STUDIO',\n",
       " 'Kamal Uddin d',\n",
       " 'New creative ideas',\n",
       " 'Ardea-studio',\n",
       " '4mora',\n",
       " 'StonePictures',\n",
       " 'StonePictures',\n",
       " 'StonePictures',\n",
       " 'Lauritta',\n",
       " 'luxman22',\n",
       " 'luxman22',\n",
       " 'Sunset Paper',\n",
       " 'Molibdenis-Studio',\n",
       " 'Molibdenis-Studio',\n",
       " 'Photo craze',\n",
       " 'GUILTYPE STUDIO',\n",
       " 'Samarkhan121',\n",
       " 'StonePictures',\n",
       " 'alponadesign',\n",
       " 'Natykach Nataliia',\n",
       " 'Samarkhan121',\n",
       " 'alponadesign',\n",
       " 'alponadesign',\n",
       " 'luxman22',\n",
       " 'Kamal Uddin d',\n",
       " 'M.Aka',\n",
       " 'luxman22',\n",
       " 'alponadesign',\n",
       " 'alponadesign',\n",
       " 'alponadesign',\n",
       " 'alponadesign',\n",
       " 'kotoffei',\n",
       " 'alponadesign',\n",
       " 'alponadesign',\n",
       " 'alponadesign',\n",
       " 'luxman22',\n",
       " 'Ardea-studio']"
      ]
     },
     "execution_count": 16,
     "metadata": {},
     "output_type": "execute_result"
    }
   ],
   "source": [
    "users"
   ]
  },
  {
   "cell_type": "code",
   "execution_count": null,
   "id": "309e858c-0c43-4b44-952d-2fd6a56b711d",
   "metadata": {
    "tags": []
   },
   "outputs": [],
   "source": [
    "df=pd.DataFrame(links,columns=[\"Links\"])\n",
    "df2=pd.DataFrame(users,columns=[\"Username\"])\n",
    "df=({\"Links\":links,\n",
    "    \"Username\":users})\n",
    "df=pd.DataFrame(df)\n"
   ]
  },
  {
   "cell_type": "code",
   "execution_count": null,
   "id": "2d3292dc-1116-4da3-9550-c7168a60d9fe",
   "metadata": {},
   "outputs": [],
   "source": []
  }
 ],
 "metadata": {
  "kernelspec": {
   "display_name": "Python 3",
   "language": "python",
   "name": "python3"
  },
  "language_info": {
   "codemirror_mode": {
    "name": "ipython",
    "version": 3
   },
   "file_extension": ".py",
   "mimetype": "text/x-python",
   "name": "python",
   "nbconvert_exporter": "python",
   "pygments_lexer": "ipython3",
   "version": "3.8.8"
  },
  "toc-showcode": true
 },
 "nbformat": 4,
 "nbformat_minor": 5
}
